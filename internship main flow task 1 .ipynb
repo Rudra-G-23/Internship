{
 "cells": [
  {
   "cell_type": "markdown",
   "id": "53fdbccc-672b-4bdb-bd24-276f224cd928",
   "metadata": {},
   "source": [
    "### Python such as lists, dictionaries, and sets.\n",
    "### Basic operations like adding, removing, and modifying elements."
   ]
  },
  {
   "cell_type": "markdown",
   "id": "752f23e9-3f94-4e30-99fd-b69659c748bf",
   "metadata": {},
   "source": [
    "#### 1. List"
   ]
  },
  {
   "cell_type": "code",
   "execution_count": 1,
   "id": "f3ffbab9-cd5c-4678-b82c-62f35c89d6fd",
   "metadata": {},
   "outputs": [
    {
     "name": "stdout",
     "output_type": "stream",
     "text": [
      "My list :  [10, 20, 30, 40, 50, 15]\n"
     ]
    }
   ],
   "source": [
    "#create the list \n",
    "list = [10, 20, 30, 40, 50, 15]\n",
    "print(\"My list : \", list )"
   ]
  },
  {
   "cell_type": "code",
   "execution_count": 2,
   "id": "8fb730f2-9ab2-4a9d-97c0-f02f6ebea9f3",
   "metadata": {},
   "outputs": [
    {
     "name": "stdout",
     "output_type": "stream",
     "text": [
      " 60 add in list  :  [10, 20, 30, 40, 50, 15, 60]\n"
     ]
    }
   ],
   "source": [
    "#add a element \n",
    "list.append(60)\n",
    "print(\" 60 add in list  : \", list)"
   ]
  },
  {
   "cell_type": "code",
   "execution_count": 3,
   "id": "5f07d7bc-a50c-4697-b08b-7a619f528188",
   "metadata": {},
   "outputs": [
    {
     "name": "stdout",
     "output_type": "stream",
     "text": [
      " 15 remove from the list  :  [10, 20, 30, 40, 50, 60]\n"
     ]
    }
   ],
   "source": [
    "#remove\n",
    "list.remove(15)\n",
    "print(\" 15 remove from the list  : \", list)"
   ]
  },
  {
   "cell_type": "code",
   "execution_count": 4,
   "id": "0f9493aa-80fd-4a44-a2f0-1b9dbe088cc1",
   "metadata": {},
   "outputs": [
    {
     "name": "stdout",
     "output_type": "stream",
     "text": [
      " At 2nd place we modify the no with 200  :  [10, 200, 30, 40, 50, 60]\n"
     ]
    }
   ],
   "source": [
    "#modify\n",
    "list[1] = 200\n",
    "\n",
    "print(\" At 2nd place we modify the no with 200  : \", list)"
   ]
  },
  {
   "cell_type": "code",
   "execution_count": 5,
   "id": "df7301ad-b85f-4b7d-ab58-c137004b1734",
   "metadata": {},
   "outputs": [
    {
     "name": "stdout",
     "output_type": "stream",
     "text": [
      " Final list  :  [10, 200, 30, 40, 50, 60]\n"
     ]
    }
   ],
   "source": [
    "# final results\n",
    "\n",
    "print(\" Final list  : \", list)"
   ]
  },
  {
   "cell_type": "markdown",
   "id": "4ade1919-3527-45dd-a242-51266fe63130",
   "metadata": {},
   "source": [
    "#### 2. Dictionaries"
   ]
  },
  {
   "cell_type": "code",
   "execution_count": 6,
   "id": "e340a7df-2b4b-4170-9f5c-ad554acad41d",
   "metadata": {},
   "outputs": [
    {
     "name": "stdout",
     "output_type": "stream",
     "text": [
      "Dict : {'name': 'Rudra', 'age': '19', 'city': 'rgp'}\n"
     ]
    }
   ],
   "source": [
    "#create a dict\n",
    "dict = {\n",
    "        'name': 'Rudra',\n",
    "       'age' : '19',\n",
    "       'city': 'rgp'\n",
    "       }\n",
    "print(\"Dict :\", dict)"
   ]
  },
  {
   "cell_type": "code",
   "execution_count": 7,
   "id": "38c949bb-8e97-4eff-9395-031ccc32d5dc",
   "metadata": {},
   "outputs": [
    {
     "name": "stdout",
     "output_type": "stream",
     "text": [
      " Add a new key , value pair in Dict : {'name': 'Rudra', 'age': '19', 'city': 'rgp', 'gender': 'Male'}\n"
     ]
    }
   ],
   "source": [
    "#add a new key , value pair\n",
    "dict['gender'] = 'Male'\n",
    "\n",
    "print(\" Add a new key , value pair in Dict :\", dict)"
   ]
  },
  {
   "cell_type": "code",
   "execution_count": 8,
   "id": "087de956-6324-44b0-8501-aee01586f6ec",
   "metadata": {},
   "outputs": [
    {
     "name": "stdout",
     "output_type": "stream",
     "text": [
      " Delete the age key from Dict : {'name': 'Rudra', 'city': 'rgp', 'gender': 'Male'}\n"
     ]
    }
   ],
   "source": [
    "# delete the age key \n",
    "del dict['age']\n",
    "print(\" Delete the age key from Dict :\", dict)"
   ]
  },
  {
   "cell_type": "code",
   "execution_count": 9,
   "id": "fb735eb1-003a-4ee2-a0e5-7c6801a44ed7",
   "metadata": {},
   "outputs": [
    {
     "name": "stdout",
     "output_type": "stream",
     "text": [
      " Modify Dict : {'name': 'Rudra', 'city': 'Puri', 'gender': 'Male'}\n"
     ]
    }
   ],
   "source": [
    "# modify\n",
    "dict['city'] = 'Puri'\n",
    "print(\" Modify Dict :\", dict)"
   ]
  },
  {
   "cell_type": "code",
   "execution_count": 10,
   "id": "2333a1d7-e33b-420e-ae78-f27f5952fc46",
   "metadata": {},
   "outputs": [
    {
     "name": "stdout",
     "output_type": "stream",
     "text": [
      " Final Dict : {'name': 'Rudra', 'city': 'Puri', 'gender': 'Male'}\n"
     ]
    }
   ],
   "source": [
    "# final dict\n",
    "print(\" Final Dict :\", dict)"
   ]
  },
  {
   "cell_type": "markdown",
   "id": "4df3d126-e3b8-45bf-a740-7035e8cedf56",
   "metadata": {},
   "source": [
    "#### Set"
   ]
  },
  {
   "cell_type": "code",
   "execution_count": 11,
   "id": "f3a7f56e-2039-413d-8958-a66eddcab416",
   "metadata": {},
   "outputs": [
    {
     "name": "stdout",
     "output_type": "stream",
     "text": [
      " My Set  : {50, 20, 40, 10, 30}\n"
     ]
    }
   ],
   "source": [
    "# Create a set\n",
    "my_set = {10, 20, 30,  40, 50, 10 }\n",
    "print(\" My Set  :\", my_set)"
   ]
  },
  {
   "cell_type": "code",
   "execution_count": 12,
   "id": "4b682206-fea0-465c-84bc-290a407d4343",
   "metadata": {},
   "outputs": [
    {
     "name": "stdout",
     "output_type": "stream",
     "text": [
      " Add 3000 in  Set  : {50, 20, 3000, 40, 10, 30}\n"
     ]
    }
   ],
   "source": [
    "#adding\n",
    "my_set.add(3000)\n",
    "print(\" Add 3000 in  Set  :\", my_set)"
   ]
  },
  {
   "cell_type": "code",
   "execution_count": 13,
   "id": "dd07b593-d176-4402-9bf6-029fa95ce40a",
   "metadata": {},
   "outputs": [
    {
     "name": "stdout",
     "output_type": "stream",
     "text": [
      " Remove 30 from set  : {50, 20, 3000, 40, 10}\n"
     ]
    }
   ],
   "source": [
    "#remove\n",
    "my_set.remove(30)\n",
    "print(\" Remove 30 from set  :\", my_set)"
   ]
  },
  {
   "cell_type": "code",
   "execution_count": 14,
   "id": "808df24d-f377-4381-b460-596e48795d6b",
   "metadata": {},
   "outputs": [
    {
     "name": "stdout",
     "output_type": "stream",
     "text": [
      " Discard'50' & add '9000' from set  : {9000, 20, 3000, 40, 10}\n"
     ]
    }
   ],
   "source": [
    "#modify\n",
    "my_set.discard(50)\n",
    "my_set.add(9000)\n",
    "print(\" Discard'50' & add '9000' from set  :\", my_set)"
   ]
  },
  {
   "cell_type": "code",
   "execution_count": 15,
   "id": "19d48c89-604d-402b-a920-7518b9c2f796",
   "metadata": {},
   "outputs": [
    {
     "name": "stdout",
     "output_type": "stream",
     "text": [
      " Final set  : {9000, 20, 3000, 40, 10}\n"
     ]
    }
   ],
   "source": [
    "# final set\n",
    "print(\" Final set  :\", my_set)"
   ]
  },
  {
   "cell_type": "code",
   "execution_count": null,
   "id": "8e4cd1ac-6360-4203-8360-1aa412f8e51a",
   "metadata": {},
   "outputs": [],
   "source": []
  },
  {
   "cell_type": "markdown",
   "id": "f29c111c-bfad-4266-b9a2-d240f857eec3",
   "metadata": {},
   "source": [
    "By Rudra !"
   ]
  },
  {
   "cell_type": "code",
   "execution_count": null,
   "id": "7fc86bba-d024-4b4c-a684-c5ab5c473d39",
   "metadata": {},
   "outputs": [],
   "source": []
  }
 ],
 "metadata": {
  "kernelspec": {
   "display_name": "Python 3 (ipykernel)",
   "language": "python",
   "name": "python3"
  },
  "language_info": {
   "codemirror_mode": {
    "name": "ipython",
    "version": 3
   },
   "file_extension": ".py",
   "mimetype": "text/x-python",
   "name": "python",
   "nbconvert_exporter": "python",
   "pygments_lexer": "ipython3",
   "version": "3.12.3"
  }
 },
 "nbformat": 4,
 "nbformat_minor": 5
}
